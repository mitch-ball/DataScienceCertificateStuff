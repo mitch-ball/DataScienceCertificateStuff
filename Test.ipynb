{
 "cells": [
  {
   "cell_type": "markdown",
   "id": "d8f94ea0-e132-489f-b2de-a19ad2ac84bb",
   "metadata": {},
   "source": [
    "# My Jupyter Notebook on IBM Watson Studio"
   ]
  },
  {
   "cell_type": "markdown",
   "id": "9e53ad90-8fd0-46a4-b413-a94ac7bb66ef",
   "metadata": {},
   "source": [
    "__Mitch Ball__  \n",
    "Senior Data Analyst"
   ]
  },
  {
   "cell_type": "markdown",
   "id": "e1fbf876-3dce-4c1d-a7bf-8d9a073800bc",
   "metadata": {},
   "source": [
    "_I'm interested in Data Science to help make research for others easier._"
   ]
  },
  {
   "cell_type": "markdown",
   "id": "a4ef9384-9cba-4498-b1db-b85817872f8a",
   "metadata": {},
   "source": [
    "### My Code is supposed to (something here)"
   ]
  },
  {
   "cell_type": "code",
   "execution_count": 1,
   "id": "15c8bcc4-3d86-47cc-bcc8-b359c3ee2ca1",
   "metadata": {},
   "outputs": [
    {
     "data": {
      "text/plain": [
       "2"
      ]
     },
     "execution_count": 1,
     "metadata": {},
     "output_type": "execute_result"
    }
   ],
   "source": [
    "1+1"
   ]
  },
  {
   "cell_type": "markdown",
   "id": "f500befb-7371-4c31-bebd-cc704276d78f",
   "metadata": {},
   "source": [
    "*****\n",
    "1. This is my numbered list item one\n",
    "2. This is my numbered list item two\n",
    "3. This is my numbered list item three\n",
    "- This is my bulleted list item one\n",
    "- This is my bulleted list item two\n",
    "- This is my bulleted list item three"
   ]
  },
  {
   "cell_type": "code",
   "execution_count": null,
   "id": "754aebd4-efe7-4fad-bc9c-c82782602327",
   "metadata": {},
   "outputs": [],
   "source": []
  }
 ],
 "metadata": {
  "kernelspec": {
   "display_name": "Python",
   "language": "python",
   "name": "conda-env-python-py"
  },
  "language_info": {
   "codemirror_mode": {
    "name": "ipython",
    "version": 3
   },
   "file_extension": ".py",
   "mimetype": "text/x-python",
   "name": "python",
   "nbconvert_exporter": "python",
   "pygments_lexer": "ipython3",
   "version": "3.7.12"
  }
 },
 "nbformat": 4,
 "nbformat_minor": 5
}
